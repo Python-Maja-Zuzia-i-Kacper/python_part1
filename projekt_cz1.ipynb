{
 "cells": [
  {
   "cell_type": "code",
   "execution_count": 15,
   "metadata": {},
   "outputs": [
    {
     "name": "stdout",
     "output_type": "stream",
     "text": [
      "Note: you may need to restart the kernel to use updated packages.\n"
     ]
    },
    {
     "name": "stderr",
     "output_type": "stream",
     "text": [
      "ERROR: Could not find a version that satisfies the requirement os (from versions: none)\n",
      "\n",
      "[notice] A new release of pip is available: 24.2 -> 24.3.1\n",
      "[notice] To update, run: python.exe -m pip install --upgrade pip\n",
      "ERROR: No matching distribution found for os\n"
     ]
    }
   ],
   "source": [
    "pip install os"
   ]
  },
  {
   "cell_type": "code",
   "execution_count": 3,
   "metadata": {},
   "outputs": [],
   "source": [
    "import pandas as pd"
   ]
  },
  {
   "cell_type": "markdown",
   "metadata": {},
   "source": [
    "Import danych: New York City Airbnb - zbiór danych opisuje aktywność i wskaźniki ofert na Airbnb w Nowym Jorku w 2019 roku."
   ]
  },
  {
   "cell_type": "code",
   "execution_count": 1,
   "metadata": {},
   "outputs": [
    {
     "name": "stdout",
     "output_type": "stream",
     "text": [
      "Ścieżka do zbioru danych: C:\\Users\\majal\\.cache\\kagglehub\\datasets\\dgomonov\\new-york-city-airbnb-open-data\\versions\\3\n"
     ]
    }
   ],
   "source": [
    "import kagglehub\n",
    "path = kagglehub.dataset_download('dgomonov/new-york-city-airbnb-open-data')\n",
    "print('Ścieżka do zbioru danych:',path)"
   ]
  },
  {
   "cell_type": "code",
   "execution_count": 5,
   "metadata": {},
   "outputs": [],
   "source": [
    "import os\n",
    "directory_name = 'python_part1'\n",
    "os.mkdir(directory_name)\n",
    "file_path = \"AB_NYC_2019.csv\" \n",
    "dane = pd.read_csv(file_path)"
   ]
  },
  {
   "cell_type": "markdown",
   "metadata": {},
   "source": [
    "Przegląd danych"
   ]
  },
  {
   "cell_type": "code",
   "execution_count": 52,
   "metadata": {},
   "outputs": [
    {
     "name": "stdout",
     "output_type": "stream",
     "text": [
      "<class 'pandas.core.frame.DataFrame'>\n",
      "RangeIndex: 48895 entries, 0 to 48894\n",
      "Data columns (total 16 columns):\n",
      " #   Column                          Non-Null Count  Dtype  \n",
      "---  ------                          --------------  -----  \n",
      " 0   id                              48895 non-null  int64  \n",
      " 1   name                            48879 non-null  object \n",
      " 2   host_id                         48895 non-null  int64  \n",
      " 3   host_name                       48874 non-null  object \n",
      " 4   neighbourhood_group             48895 non-null  object \n",
      " 5   neighbourhood                   48895 non-null  object \n",
      " 6   latitude                        48895 non-null  float64\n",
      " 7   longitude                       48895 non-null  float64\n",
      " 8   room_type                       48895 non-null  object \n",
      " 9   price                           48895 non-null  int64  \n",
      " 10  minimum_nights                  48895 non-null  int64  \n",
      " 11  number_of_reviews               48895 non-null  int64  \n",
      " 12  last_review                     38843 non-null  object \n",
      " 13  reviews_per_month               38843 non-null  float64\n",
      " 14  calculated_host_listings_count  48895 non-null  int64  \n",
      " 15  availability_365                48895 non-null  int64  \n",
      "dtypes: float64(3), int64(7), object(6)\n",
      "memory usage: 6.0+ MB\n",
      "Nasza tabela danych zawiera 48895 wierszy oraz 16 kolumn, \n",
      "w których dane przechowywane są w typach: int (liczby całkowite), float (liczby rzeczywiste) oraz object (objekty)\n"
     ]
    }
   ],
   "source": [
    "dane.info()\n",
    "print('Nasza tabela danych zawiera 48895 wierszy oraz 16 kolumn, \\nw których dane przechowywane są w typach: int (liczby całkowite), float (liczby rzeczywiste) oraz object (objekty)')"
   ]
  },
  {
   "cell_type": "markdown",
   "metadata": {},
   "source": [
    "Data wrangling. Do przeprowadzenia kompletnej analizy naszej bazy danych potrzebujemy jej w formie, tzw. czystej. Dlatego musimy najpierw nadać odpowiedni kształt danym, ocenić braki, obserwacje ostające czy też zlokalizować i usunąć błędy.\n",
    "\n",
    "1. Braki danych"
   ]
  },
  {
   "cell_type": "code",
   "execution_count": 60,
   "metadata": {},
   "outputs": [
    {
     "name": "stdout",
     "output_type": "stream",
     "text": [
      "id                                    0\n",
      "name                                 16\n",
      "host_id                               0\n",
      "host_name                            21\n",
      "neighbourhood_group                   0\n",
      "neighbourhood                         0\n",
      "latitude                              0\n",
      "longitude                             0\n",
      "room_type                             0\n",
      "price                                 0\n",
      "minimum_nights                        0\n",
      "number_of_reviews                     0\n",
      "last_review                       10052\n",
      "reviews_per_month                 10052\n",
      "calculated_host_listings_count        0\n",
      "availability_365                      0\n",
      "dtype: int64\n",
      "Kolumny last_review i reviews_per_month mogą być puste, ale tylko dla wartosci 0 w kolumnie number_of_reviews\n"
     ]
    }
   ],
   "source": [
    "braki_danych = dane.isna().sum()\n",
    "print(braki_danych)\n",
    "print('Kolumny last_review i reviews_per_month mogą być puste, ale tylko dla wartosci 0 w kolumnie number_of_reviews')"
   ]
  },
  {
   "cell_type": "code",
   "execution_count": 75,
   "metadata": {},
   "outputs": [
    {
     "name": "stdout",
     "output_type": "stream",
     "text": [
      "Warunek spełniony, braki danych są uzasadnione\n"
     ]
    }
   ],
   "source": [
    "for index, row in dane.iterrows():\n",
    "    if row['number_of_reviews']==0 and ((not pd.isna(row['reviews_per_month'])) or (not pd.isna(row['last_review']))):\n",
    "        print(row)\n",
    "\n",
    "print('Warunek spełniony, braki danych są uzasadnione')\n"
   ]
  },
  {
   "cell_type": "code",
   "execution_count": 65,
   "metadata": {},
   "outputs": [
    {
     "name": "stdout",
     "output_type": "stream",
     "text": [
      "0        False\n",
      "1        False\n",
      "2         True\n",
      "3        False\n",
      "4        False\n",
      "         ...  \n",
      "48890     True\n",
      "48891     True\n",
      "48892     True\n",
      "48893     True\n",
      "48894     True\n",
      "Length: 48895, dtype: bool\n"
     ]
    }
   ],
   "source": [
    "spr_zalozenia_na = dane['number_of_reviews']==0 & ((~dane['last_review'].isna()) | (~dane['reviews_per_month'].isna()))\n",
    "print(spr_zalozenia_na)"
   ]
  },
  {
   "cell_type": "markdown",
   "metadata": {},
   "source": [
    "Kilka brakujących danych mamy dla kolumny name i host name. "
   ]
  },
  {
   "cell_type": "code",
   "execution_count": null,
   "metadata": {},
   "outputs": [],
   "source": [
    "# mam dwie kolumny w tabeli: id i name, dla każdego wiersza mam określone id, a w kolumnie name są pojedyńcze braki, które chce uzupełnić, podstawiając imię przypisane do konkretnego id w innym wierszu w pythonie"
   ]
  },
  {
   "cell_type": "markdown",
   "metadata": {},
   "source": [
    "2. Typy zmiennych"
   ]
  },
  {
   "cell_type": "code",
   "execution_count": 6,
   "metadata": {},
   "outputs": [
    {
     "name": "stdout",
     "output_type": "stream",
     "text": [
      "id                                        object\n",
      "name                                      object\n",
      "host_id                                   object\n",
      "host_name                                 object\n",
      "neighbourhood_group                       object\n",
      "neighbourhood                             object\n",
      "latitude                                 float64\n",
      "longitude                                float64\n",
      "room_type                               category\n",
      "price                                      int64\n",
      "minimum_nights                             int64\n",
      "number_of_reviews                          int64\n",
      "last_review                       datetime64[ns]\n",
      "reviews_per_month                        float64\n",
      "calculated_host_listings_count             int64\n",
      "availability_365                           int64\n",
      "dtype: object\n"
     ]
    }
   ],
   "source": [
    "# id i host_id - tekst\n",
    "dane['id']=str(dane['id'])\n",
    "dane['host_id']=str(dane['host_id'])\n",
    "\n",
    "# room_type - skala porządkowa\n",
    "kat_room_type = ['Shared room','Private room','Entire home/apt']\n",
    "dane['room_type'] = pd.Categorical(dane['room_type'], categories=kat_room_type, ordered=True)\n",
    "\n",
    "# last_review - data\n",
    "dane['last_review']=pd.to_datetime(dane['last_review'])\n",
    "\n",
    "print(dane.dtypes)\n"
   ]
  },
  {
   "cell_type": "markdown",
   "metadata": {},
   "source": [
    "3. Duplikaty danych"
   ]
  },
  {
   "cell_type": "code",
   "execution_count": 13,
   "metadata": {},
   "outputs": [
    {
     "name": "stdout",
     "output_type": "stream",
     "text": [
      "Ilość wierszy przed usunięciem duplikatów: 48895\n",
      "Ilość wierszy po usunięciu duplikatów: 48895\n"
     ]
    }
   ],
   "source": [
    "dane_wstepne = dane\n",
    "wiersze_przed = len(dane_wstepne)\n",
    "print('Ilość wierszy przed usunięciem duplikatów:',wiersze_przed)\n",
    "dane = dane_wstepne.drop_duplicates()\n",
    "wiersze_po = len(dane)\n",
    "print('Ilość wierszy po usunięciu duplikatów:',wiersze_po)"
   ]
  },
  {
   "cell_type": "markdown",
   "metadata": {},
   "source": [
    "Wniosek: nasze dane nie posiadają duplikatów."
   ]
  },
  {
   "cell_type": "markdown",
   "metadata": {},
   "source": [
    "Dla zmiennych ilościowych możemy skontrolować, czy ich statystyka jest logicznie poprawna"
   ]
  },
  {
   "cell_type": "code",
   "execution_count": 8,
   "metadata": {},
   "outputs": [
    {
     "name": "stdout",
     "output_type": "stream",
     "text": [
      "           latitude     longitude         price  minimum_nights  \\\n",
      "count  48895.000000  48895.000000  48895.000000    48895.000000   \n",
      "mean      40.728949    -73.952170    152.720687        7.029962   \n",
      "min       40.499790    -74.244420      0.000000        1.000000   \n",
      "25%       40.690100    -73.983070     69.000000        1.000000   \n",
      "50%       40.723070    -73.955680    106.000000        3.000000   \n",
      "75%       40.763115    -73.936275    175.000000        5.000000   \n",
      "max       40.913060    -73.712990  10000.000000     1250.000000   \n",
      "std        0.054530      0.046157    240.154170       20.510550   \n",
      "\n",
      "       number_of_reviews                    last_review  reviews_per_month  \\\n",
      "count       48895.000000                          38843       38843.000000   \n",
      "mean           23.274466  2018-10-04 01:47:23.910099456           1.373221   \n",
      "min             0.000000            2011-03-28 00:00:00           0.010000   \n",
      "25%             1.000000            2018-07-08 00:00:00           0.190000   \n",
      "50%             5.000000            2019-05-19 00:00:00           0.720000   \n",
      "75%            24.000000            2019-06-23 00:00:00           2.020000   \n",
      "max           629.000000            2019-07-08 00:00:00          58.500000   \n",
      "std            44.550582                            NaN           1.680442   \n",
      "\n",
      "       calculated_host_listings_count  availability_365  \n",
      "count                    48895.000000      48895.000000  \n",
      "mean                         7.143982        112.781327  \n",
      "min                          1.000000          0.000000  \n",
      "25%                          1.000000          0.000000  \n",
      "50%                          1.000000         45.000000  \n",
      "75%                          2.000000        227.000000  \n",
      "max                        327.000000        365.000000  \n",
      "std                         32.952519        131.622289  \n"
     ]
    }
   ],
   "source": [
    "dane_ilosciowe = dane.describe()\n",
    "print(dane_ilosciowe)"
   ]
  }
 ],
 "metadata": {
  "kernelspec": {
   "display_name": "Python 3",
   "language": "python",
   "name": "python3"
  },
  "language_info": {
   "codemirror_mode": {
    "name": "ipython",
    "version": 3
   },
   "file_extension": ".py",
   "mimetype": "text/x-python",
   "name": "python",
   "nbconvert_exporter": "python",
   "pygments_lexer": "ipython3",
   "version": "3.13.0"
  }
 },
 "nbformat": 4,
 "nbformat_minor": 2
}
