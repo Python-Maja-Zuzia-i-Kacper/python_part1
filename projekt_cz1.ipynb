{
 "cells": [
  {
   "cell_type": "code",
   "execution_count": 15,
   "metadata": {},
   "outputs": [
    {
     "name": "stdout",
     "output_type": "stream",
     "text": [
      "Note: you may need to restart the kernel to use updated packages.\n"
     ]
    },
    {
     "name": "stderr",
     "output_type": "stream",
     "text": [
      "ERROR: Could not find a version that satisfies the requirement os (from versions: none)\n",
      "\n",
      "[notice] A new release of pip is available: 24.2 -> 24.3.1\n",
      "[notice] To update, run: python.exe -m pip install --upgrade pip\n",
      "ERROR: No matching distribution found for os\n"
     ]
    }
   ],
   "source": [
    "pip install os"
   ]
  },
  {
   "cell_type": "code",
   "execution_count": null,
   "metadata": {},
   "outputs": [],
   "source": [
    "import pandas as pd"
   ]
  },
  {
   "cell_type": "markdown",
   "metadata": {},
   "source": [
    "Import danych: New York City Airbnb - zbiór danych opisuje aktywność i wskaźniki ofert na Airbnb w Nowym Jorku w 2019 roku."
   ]
  },
  {
   "cell_type": "code",
   "execution_count": 16,
   "metadata": {},
   "outputs": [
    {
     "name": "stdout",
     "output_type": "stream",
     "text": [
      "Ścieżka do zbioru danych: C:\\Users\\majal\\.cache\\kagglehub\\datasets\\dgomonov\\new-york-city-airbnb-open-data\\versions\\3\n"
     ]
    }
   ],
   "source": [
    "import kagglehub\n",
    "path = kagglehub.dataset_download('dgomonov/new-york-city-airbnb-open-data')\n",
    "print('Ścieżka do zbioru danych:',path)"
   ]
  },
  {
   "cell_type": "code",
   "execution_count": 51,
   "metadata": {},
   "outputs": [
    {
     "ename": "FileExistsError",
     "evalue": "[WinError 183] Nie można utworzyć pliku, który już istnieje: 'projekt_analiza_danych_python'",
     "output_type": "error",
     "traceback": [
      "\u001b[1;31m---------------------------------------------------------------------------\u001b[0m",
      "\u001b[1;31mFileExistsError\u001b[0m                           Traceback (most recent call last)",
      "Cell \u001b[1;32mIn[51], line 3\u001b[0m\n\u001b[0;32m      1\u001b[0m \u001b[38;5;28;01mimport\u001b[39;00m \u001b[38;5;21;01mos\u001b[39;00m\n\u001b[0;32m      2\u001b[0m directory_name \u001b[38;5;241m=\u001b[39m \u001b[38;5;124m'\u001b[39m\u001b[38;5;124mprojekt_analiza_danych_python\u001b[39m\u001b[38;5;124m'\u001b[39m\n\u001b[1;32m----> 3\u001b[0m \u001b[43mos\u001b[49m\u001b[38;5;241;43m.\u001b[39;49m\u001b[43mmkdir\u001b[49m\u001b[43m(\u001b[49m\u001b[43mdirectory_name\u001b[49m\u001b[43m)\u001b[49m\n\u001b[0;32m      4\u001b[0m file_path \u001b[38;5;241m=\u001b[39m \u001b[38;5;124m\"\u001b[39m\u001b[38;5;124mAB_NYC_2019.csv\u001b[39m\u001b[38;5;124m\"\u001b[39m \n\u001b[0;32m      5\u001b[0m dane \u001b[38;5;241m=\u001b[39m pd\u001b[38;5;241m.\u001b[39mread_csv(file_path)\n",
      "\u001b[1;31mFileExistsError\u001b[0m: [WinError 183] Nie można utworzyć pliku, który już istnieje: 'projekt_analiza_danych_python'"
     ]
    }
   ],
   "source": [
    "import os\n",
    "directory_name = 'projekt_analiza_danych_python'\n",
    "os.mkdir(directory_name)\n",
    "file_path = \"AB_NYC_2019.csv\" \n",
    "dane = pd.read_csv(file_path)"
   ]
  },
  {
   "cell_type": "markdown",
   "metadata": {},
   "source": [
    "Przegląd danych"
   ]
  },
  {
   "cell_type": "code",
   "execution_count": 52,
   "metadata": {},
   "outputs": [
    {
     "name": "stdout",
     "output_type": "stream",
     "text": [
      "<class 'pandas.core.frame.DataFrame'>\n",
      "RangeIndex: 48895 entries, 0 to 48894\n",
      "Data columns (total 16 columns):\n",
      " #   Column                          Non-Null Count  Dtype  \n",
      "---  ------                          --------------  -----  \n",
      " 0   id                              48895 non-null  int64  \n",
      " 1   name                            48879 non-null  object \n",
      " 2   host_id                         48895 non-null  int64  \n",
      " 3   host_name                       48874 non-null  object \n",
      " 4   neighbourhood_group             48895 non-null  object \n",
      " 5   neighbourhood                   48895 non-null  object \n",
      " 6   latitude                        48895 non-null  float64\n",
      " 7   longitude                       48895 non-null  float64\n",
      " 8   room_type                       48895 non-null  object \n",
      " 9   price                           48895 non-null  int64  \n",
      " 10  minimum_nights                  48895 non-null  int64  \n",
      " 11  number_of_reviews               48895 non-null  int64  \n",
      " 12  last_review                     38843 non-null  object \n",
      " 13  reviews_per_month               38843 non-null  float64\n",
      " 14  calculated_host_listings_count  48895 non-null  int64  \n",
      " 15  availability_365                48895 non-null  int64  \n",
      "dtypes: float64(3), int64(7), object(6)\n",
      "memory usage: 6.0+ MB\n",
      "Nasza tabela danych zawiera 48895 wierszy oraz 16 kolumn, \n",
      "w których dane przechowywane są w typach: int (liczby całkowite), float (liczby rzeczywiste) oraz object (objekty)\n"
     ]
    }
   ],
   "source": [
    "dane.info()\n",
    "print('Nasza tabela danych zawiera 48895 wierszy oraz 16 kolumn, \\nw których dane przechowywane są w typach: int (liczby całkowite), float (liczby rzeczywiste) oraz object (objekty)')"
   ]
  },
  {
   "cell_type": "markdown",
   "metadata": {},
   "source": [
    "Data wrangling. Do przeprowadzenia kompletnej analizy naszej bazy danych potrzebujemy jej w formie, tzw. czystej. Dlatego musimy najpierw nadać odpowiedni kształt danym, ocenić braki, obserwacje ostające czy też zlokalizować i usunąć błędy.\n",
    "\n",
    "1. Braki danych"
   ]
  },
  {
   "cell_type": "code",
   "execution_count": 60,
   "metadata": {},
   "outputs": [
    {
     "name": "stdout",
     "output_type": "stream",
     "text": [
      "id                                    0\n",
      "name                                 16\n",
      "host_id                               0\n",
      "host_name                            21\n",
      "neighbourhood_group                   0\n",
      "neighbourhood                         0\n",
      "latitude                              0\n",
      "longitude                             0\n",
      "room_type                             0\n",
      "price                                 0\n",
      "minimum_nights                        0\n",
      "number_of_reviews                     0\n",
      "last_review                       10052\n",
      "reviews_per_month                 10052\n",
      "calculated_host_listings_count        0\n",
      "availability_365                      0\n",
      "dtype: int64\n",
      "Kolumny last_review i reviews_per_month mogą być puste, ale tylko dla wartosci 0 w kolumnie number_of_reviews\n"
     ]
    }
   ],
   "source": [
    "braki_danych = dane.isna().sum()\n",
    "print(braki_danych)\n",
    "print('Kolumny last_review i reviews_per_month mogą być puste, ale tylko dla wartosci 0 w kolumnie number_of_reviews')"
   ]
  },
  {
   "cell_type": "code",
   "execution_count": 75,
   "metadata": {},
   "outputs": [
    {
     "name": "stdout",
     "output_type": "stream",
     "text": [
      "Warunek spełniony, braki danych są uzasadnione\n"
     ]
    }
   ],
   "source": [
    "for index, row in dane.iterrows():\n",
    "    if row['number_of_reviews']==0 and ((not pd.isna(row['reviews_per_month'])) or (not pd.isna(row['last_review']))):\n",
    "        print(row)\n",
    "\n",
    "print('Warunek spełniony, braki danych są uzasadnione')\n"
   ]
  },
  {
   "cell_type": "code",
   "execution_count": 65,
   "metadata": {},
   "outputs": [
    {
     "name": "stdout",
     "output_type": "stream",
     "text": [
      "0        False\n",
      "1        False\n",
      "2         True\n",
      "3        False\n",
      "4        False\n",
      "         ...  \n",
      "48890     True\n",
      "48891     True\n",
      "48892     True\n",
      "48893     True\n",
      "48894     True\n",
      "Length: 48895, dtype: bool\n"
     ]
    }
   ],
   "source": [
    "spr_zalozenia_na = dane['number_of_reviews']==0 & ((~dane['last_review'].isna()) | (~dane['reviews_per_month'].isna()))\n",
    "print(spr_zalozenia_na)"
   ]
  },
  {
   "cell_type": "markdown",
   "metadata": {},
   "source": [
    "2. Typy zmiennych"
   ]
  },
  {
   "cell_type": "code",
   "execution_count": 91,
   "metadata": {},
   "outputs": [
    {
     "name": "stdout",
     "output_type": "stream",
     "text": [
      "0   2018-10-19\n",
      "1   2019-05-21\n",
      "2          NaT\n",
      "3   2019-07-05\n",
      "4   2018-11-19\n",
      "Name: last_review, dtype: datetime64[ns]\n"
     ]
    },
    {
     "data": {
      "text/plain": [
       "id                                        object\n",
       "name                                      object\n",
       "host_id                                   object\n",
       "host_name                                 object\n",
       "neighbourhood_group                       object\n",
       "neighbourhood                             object\n",
       "latitude                                 float64\n",
       "longitude                                float64\n",
       "room_type                               category\n",
       "price                                      int64\n",
       "minimum_nights                             int64\n",
       "number_of_reviews                          int64\n",
       "last_review                       datetime64[ns]\n",
       "reviews_per_month                        float64\n",
       "calculated_host_listings_count             int64\n",
       "availability_365                           int64\n",
       "dtype: object"
      ]
     },
     "execution_count": 91,
     "metadata": {},
     "output_type": "execute_result"
    }
   ],
   "source": [
    "# id i host_id - tekst\n",
    "dane['id']=str(dane['id'])\n",
    "dane['host_id']=str(dane['host_id'])\n",
    "\n",
    "# room_type - skala porządkowa\n",
    "kat_room_type = ['Shared room','Private room','Entire home/apt']\n",
    "dane['room_type'] = pd.Categorical(dane['room_type'], categories=kat_room_type, ordered=True)\n",
    "\n",
    "# last_review - data\n",
    "dane['last_review']=pd.to_datetime(dane['last_review'])\n",
    "\n",
    "dane.dtypes\n"
   ]
  }
 ],
 "metadata": {
  "kernelspec": {
   "display_name": "Python 3",
   "language": "python",
   "name": "python3"
  },
  "language_info": {
   "codemirror_mode": {
    "name": "ipython",
    "version": 3
   },
   "file_extension": ".py",
   "mimetype": "text/x-python",
   "name": "python",
   "nbconvert_exporter": "python",
   "pygments_lexer": "ipython3",
   "version": "3.13.0"
  }
 },
 "nbformat": 4,
 "nbformat_minor": 2
}
